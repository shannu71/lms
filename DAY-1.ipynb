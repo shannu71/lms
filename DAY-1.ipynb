{
 "cells": [
  {
   "cell_type": "code",
   "execution_count": 1,
   "id": "851bd3fa-9c9c-4623-b8ab-5bf9c3b6b01d",
   "metadata": {},
   "outputs": [
    {
     "name": "stdout",
     "output_type": "stream",
     "text": [
      "Integer Variable:\n",
      "Value: 10 | Type: <class 'int'>\n",
      "\n",
      "Float Variable:\n",
      "Value: 3.14 | Type: <class 'float'>\n",
      "\n",
      "String Variable:\n",
      "Value: Hello, Sahithi! | Type: <class 'str'>\n",
      "\n",
      "Boolean Variable:\n",
      "Value: True | Type: <class 'bool'>\n"
     ]
    }
   ],
   "source": [
    "\n",
    "integer_var = 10          \n",
    "float_var = 3.14          \n",
    "string_var = \"Hello, Sahithi!\"  \n",
    "boolean_var = True        \n",
    "\n",
    "print(\"Integer Variable:\")\n",
    "print(\"Value:\", integer_var, \"| Type:\", type(integer_var))\n",
    "\n",
    "print(\"\\nFloat Variable:\")\n",
    "print(\"Value:\", float_var, \"| Type:\", type(float_var))\n",
    "\n",
    "print(\"\\nString Variable:\")\n",
    "print(\"Value:\", string_var, \"| Type:\", type(string_var))\n",
    "\n",
    "print(\"\\nBoolean Variable:\")\n",
    "print(\"Value:\", boolean_var, \"| Type:\", type(boolean_var))\n"
   ]
  },
  {
   "cell_type": "code",
   "execution_count": null,
   "id": "14d84bca-167c-49d1-bec9-dcbdb921ba8d",
   "metadata": {},
   "outputs": [],
   "source": []
  },
  {
   "cell_type": "code",
   "execution_count": null,
   "id": "0a2ffcf6-f2d5-4ef0-bcee-47349549e42a",
   "metadata": {},
   "outputs": [],
   "source": []
  }
 ],
 "metadata": {
  "kernelspec": {
   "display_name": "Python 3 (ipykernel)",
   "language": "python",
   "name": "python3"
  },
  "language_info": {
   "codemirror_mode": {
    "name": "ipython",
    "version": 3
   },
   "file_extension": ".py",
   "mimetype": "text/x-python",
   "name": "python",
   "nbconvert_exporter": "python",
   "pygments_lexer": "ipython3",
   "version": "3.12.4"
  }
 },
 "nbformat": 4,
 "nbformat_minor": 5
}
