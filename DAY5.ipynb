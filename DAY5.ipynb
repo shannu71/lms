{
 "cells": [
  {
   "cell_type": "code",
   "execution_count": 2,
   "id": "a152b3f8-b4a0-489c-b18f-6ccf038255e7",
   "metadata": {},
   "outputs": [
    {
     "name": "stdout",
     "output_type": "stream",
     "text": [
      "to: 2\n",
      "be: 2\n",
      "or: 1\n",
      "not: 1\n",
      "that: 1\n",
      "is: 1\n",
      "the: 1\n",
      "question: 1\n"
     ]
    }
   ],
   "source": [
    "def word_frequency(text):\n",
    "    text = ''.join([char.lower() if char.isalnum() or char.isspace() else ' ' for char in text])\n",
    "    \n",
    "    words = text.split()\n",
    "    frequency = {}\n",
    "    \n",
    "    for word in words:\n",
    "        if word in frequency:\n",
    "            frequency[word] += 1\n",
    "        else:\n",
    "            frequency[word] = 1\n",
    "    \n",
    "    for word, count in frequency.items():\n",
    "        print(f\"{word}: {count}\")\n",
    "\n",
    "sample_text = \"To be or not to be, that is the question.\"\n",
    "word_frequency(sample_text)\n"
   ]
  },
  {
   "cell_type": "code",
   "execution_count": null,
   "id": "51b7ed16-840f-4d76-9bb9-7f64907b0d61",
   "metadata": {},
   "outputs": [],
   "source": []
  }
 ],
 "metadata": {
  "kernelspec": {
   "display_name": "Python 3 (ipykernel)",
   "language": "python",
   "name": "python3"
  },
  "language_info": {
   "codemirror_mode": {
    "name": "ipython",
    "version": 3
   },
   "file_extension": ".py",
   "mimetype": "text/x-python",
   "name": "python",
   "nbconvert_exporter": "python",
   "pygments_lexer": "ipython3",
   "version": "3.12.4"
  }
 },
 "nbformat": 4,
 "nbformat_minor": 5
}
