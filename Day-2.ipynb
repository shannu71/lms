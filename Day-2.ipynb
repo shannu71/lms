{
 "cells": [
  {
   "cell_type": "code",
   "execution_count": 2,
   "id": "500aa880-714e-41f8-b904-c458cb785936",
   "metadata": {},
   "outputs": [
    {
     "name": "stdout",
     "output_type": "stream",
     "text": [
      "Apple\n",
      "Cherry\n",
      "Elderberry\n"
     ]
    }
   ],
   "source": [
    "# Create a List\n",
    "fruits = [\"Apple\", \"Banana\", \"Cherry\", \"Date\", \"Elderberry\"]\n",
    "print(fruits[0]) \n",
    "print(fruits[2])  \n",
    "print(fruits[-1]) "
   ]
  },
  {
   "cell_type": "code",
   "execution_count": 4,
   "id": "76b8e949-3993-413e-a554-b5986f48b319",
   "metadata": {},
   "outputs": [
    {
     "name": "stdout",
     "output_type": "stream",
     "text": [
      "20\n",
      "40\n"
     ]
    }
   ],
   "source": [
    "# Create a Tuple\n",
    "numbers = (10, 20, 30, 40, 50)\n",
    "print(numbers[1])  \n",
    "print(numbers[-2]) "
   ]
  },
  {
   "cell_type": "code",
   "execution_count": 5,
   "id": "7634f53b-5263-42fa-b927-0e91a27649ac",
   "metadata": {},
   "outputs": [
    {
     "name": "stdout",
     "output_type": "stream",
     "text": [
      "Alice\n",
      "Reading\n"
     ]
    }
   ],
   "source": [
    "# Create a Dictionary\n",
    "person = {\n",
    "    \"name\": \"Alice\",\n",
    "    \"age\": 25,\n",
    "    \"city\": \"New York\",\n",
    "    \"job\": \"Engineer\",\n",
    "    \"hobby\": \"Reading\"\n",
    "}\n",
    "print(person[\"name\"])  \n",
    "print(person[\"hobby\"]) \n"
   ]
  },
  {
   "cell_type": "code",
   "execution_count": null,
   "id": "2b67481a-96aa-4fbe-8298-1ab6f93e3c5c",
   "metadata": {},
   "outputs": [],
   "source": []
  }
 ],
 "metadata": {
  "kernelspec": {
   "display_name": "Python 3 (ipykernel)",
   "language": "python",
   "name": "python3"
  },
  "language_info": {
   "codemirror_mode": {
    "name": "ipython",
    "version": 3
   },
   "file_extension": ".py",
   "mimetype": "text/x-python",
   "name": "python",
   "nbconvert_exporter": "python",
   "pygments_lexer": "ipython3",
   "version": "3.12.4"
  }
 },
 "nbformat": 4,
 "nbformat_minor": 5
}
