{
  "nbformat": 4,
  "nbformat_minor": 0,
  "metadata": {
    "colab": {
      "provenance": []
    },
    "kernelspec": {
      "name": "python3",
      "display_name": "Python 3"
    },
    "language_info": {
      "name": "python"
    }
  },
  "cells": [
    {
      "cell_type": "code",
      "execution_count": 1,
      "metadata": {
        "colab": {
          "base_uri": "https://localhost:8080/"
        },
        "id": "w4D6ogwV-EZn",
        "outputId": "61e07e07-0946-4df3-d806-3d2320aa259b"
      },
      "outputs": [
        {
          "output_type": "stream",
          "name": "stderr",
          "text": [
            "[nltk_data] Downloading package stopwords to /root/nltk_data...\n",
            "[nltk_data]   Unzipping corpora/stopwords.zip.\n"
          ]
        },
        {
          "output_type": "stream",
          "name": "stdout",
          "text": [
            "Original Text: This is an example sentence to demonstrate the text processing using NLTK and SpaCy.\n",
            "Processed Text: example sentence demonstrate text processing using nltk spacy .\n"
          ]
        }
      ],
      "source": [
        "import nltk\n",
        "from nltk.corpus import stopwords\n",
        "import spacy\n",
        "\n",
        "# Download the NLTK stopwords\n",
        "nltk.download('stopwords')\n",
        "\n",
        "# Load SpaCy's English model\n",
        "nlp = spacy.load('en_core_web_sm')\n",
        "\n",
        "# Function to process text\n",
        "def process_text(text):\n",
        "    # Convert text to lowercase\n",
        "    text = text.lower()\n",
        "\n",
        "    # Tokenize text using SpaCy\n",
        "    doc = nlp(text)\n",
        "\n",
        "    # Get the list of NLTK stopwords\n",
        "    stop_words = set(stopwords.words('english'))\n",
        "\n",
        "    # Remove stopwords\n",
        "    filtered_words = [token.text for token in doc if token.text not in stop_words]\n",
        "\n",
        "    # Join filtered words back into a single string\n",
        "    processed_text = ' '.join(filtered_words)\n",
        "\n",
        "    return processed_text\n",
        "\n",
        "# Sample text\n",
        "text = \"This is an example sentence to demonstrate the text processing using NLTK and SpaCy.\"\n",
        "\n",
        "# Process the text\n",
        "processed_text = process_text(text)\n",
        "\n",
        "print(\"Original Text:\", text)\n",
        "print(\"Processed Text:\", processed_text)\n"
      ]
    }
  ]
}